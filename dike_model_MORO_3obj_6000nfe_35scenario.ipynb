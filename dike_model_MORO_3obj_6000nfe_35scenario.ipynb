{
 "cells": [
  {
   "cell_type": "markdown",
   "metadata": {},
   "source": [
    "# V. MORO - Directed search"
   ]
  },
  {
   "cell_type": "code",
   "execution_count": 1,
   "metadata": {},
   "outputs": [
    {
     "name": "stderr",
     "output_type": "stream",
     "text": [
      "C:\\Users\\Shajee\\Anaconda3\\lib\\importlib\\_bootstrap.py:219: ImportWarning: can't resolve package from __spec__ or __package__, falling back on __name__ and __path__\n",
      "  return f(*args, **kwds)\n",
      "C:\\Users\\Shajee\\Anaconda3\\lib\\importlib\\_bootstrap.py:219: ImportWarning: can't resolve package from __spec__ or __package__, falling back on __name__ and __path__\n",
      "  return f(*args, **kwds)\n"
     ]
    }
   ],
   "source": [
    "# Basic packages\n",
    "import pandas as pd\n",
    "import seaborn as sns\n",
    "import matplotlib.pyplot as plt\n",
    "import numpy as np\n",
    "import time\n",
    "import functools\n",
    "\n",
    "# Basic EMA Workbench packages\n",
    "from ema_workbench import (Model, MultiprocessingEvaluator, Policy, Scenario, ScalarOutcome)\n",
    "from ema_workbench.em_framework.evaluators import perform_experiments\n",
    "from ema_workbench.em_framework.samplers import sample_uncertainties\n",
    "from ema_workbench.util import ema_logging\n",
    "\n",
    "# Optimization EMA Workbench packages\n",
    "from ema_workbench.em_framework.evaluators import BaseEvaluator\n",
    "from ema_workbench.em_framework.optimization import EpsilonProgress, HyperVolume\n",
    "from ema_workbench.analysis import parcoords\n",
    "\n",
    "ema_logging.log_to_stderr(ema_logging.INFO)\n",
    "BaseEvaluator.reporting_frequency = 0.1"
   ]
  },
  {
   "cell_type": "markdown",
   "metadata": {},
   "source": [
    "# 0. Define the problem"
   ]
  },
  {
   "cell_type": "code",
   "execution_count": 2,
   "metadata": {
    "scrolled": true
   },
   "outputs": [
    {
     "name": "stderr",
     "output_type": "stream",
     "text": [
      "C:\\Users\\Shajee\\Anaconda3\\lib\\importlib\\_bootstrap.py:219: ImportWarning: can't resolve package from __spec__ or __package__, falling back on __name__ and __path__\n",
      "  return f(*args, **kwds)\n",
      "[MainProcess/INFO] model initialized\n"
     ]
    }
   ],
   "source": [
    "from problem_formulation import get_model_for_problem_formulation\n",
    "dike_model = get_model_for_problem_formulation(1)"
   ]
  },
  {
   "cell_type": "markdown",
   "metadata": {},
   "source": [
    "# 1. Define robustness"
   ]
  },
  {
   "cell_type": "code",
   "execution_count": 3,
   "metadata": {},
   "outputs": [],
   "source": [
    "def robustness(direction, threshold, data):\n",
    "    if direction == SMALLER:\n",
    "        return np.sum(data<=threshold)/data.shape[0]\n",
    "    else:\n",
    "        return np.sum(data>=threshold)/data.shape[0]\n",
    "    \n",
    "def costs(data):\n",
    "    return data[0]/1e9\n",
    "\n",
    "SMALLER = 'SMALLER'\n",
    "# LARGER = 'LARGER'\n",
    "\n",
    "expected_number_of_deaths = functools.partial(robustness, SMALLER, 0.001)\n",
    "expected_annual_damage = functools.partial(robustness, SMALLER, 5e5)\n",
    "total_investment_costs = costs"
   ]
  },
  {
   "cell_type": "markdown",
   "metadata": {},
   "source": [
    "# 2. Define robustness function"
   ]
  },
  {
   "cell_type": "code",
   "execution_count": 4,
   "metadata": {},
   "outputs": [],
   "source": [
    "MAXIMIZE = ScalarOutcome.MAXIMIZE\n",
    "MINIMIZE = ScalarOutcome.MINIMIZE\n",
    "\n",
    "robustness_functions = [ScalarOutcome('Expected Number of Deaths', kind=MAXIMIZE, \n",
    "                             variable_name='Expected Number of Deaths', function=expected_number_of_deaths),\n",
    "                       ScalarOutcome('Expected Annual Damage', kind=MAXIMIZE, \n",
    "                             variable_name='Expected Annual Damage', function=expected_annual_damage),\n",
    "                       ScalarOutcome('Total Investment Costs', kind=MINIMIZE,\n",
    "                             variable_name='Total Investment Costs', function=total_investment_costs)]"
   ]
  },
  {
   "cell_type": "markdown",
   "metadata": {},
   "source": [
    "# 3. Find optimal policies"
   ]
  },
  {
   "cell_type": "code",
   "execution_count": 5,
   "metadata": {},
   "outputs": [
    {
     "name": "stderr",
     "output_type": "stream",
     "text": [
      "[MainProcess/INFO] pool started\n",
      "[MainProcess/INFO] generation 0: 0/6000 nfe\n",
      "[MainProcess/INFO] performing 35 scenarios * 100 policies * 1 model(s) = 3500 experiments\n",
      "[MainProcess/INFO] experiments finished\n",
      "[MainProcess/INFO] generation 1: 100/6000 nfe\n",
      "[MainProcess/INFO] performing 35 scenarios * 100 policies * 1 model(s) = 3500 experiments\n",
      "[MainProcess/INFO] experiments finished\n",
      "[MainProcess/INFO] generation 2: 200/6000 nfe\n",
      "[MainProcess/INFO] performing 35 scenarios * 100 policies * 1 model(s) = 3500 experiments\n",
      "[MainProcess/INFO] experiments finished\n",
      "[MainProcess/INFO] generation 3: 300/6000 nfe\n",
      "[MainProcess/INFO] performing 35 scenarios * 100 policies * 1 model(s) = 3500 experiments\n",
      "[MainProcess/INFO] experiments finished\n",
      "[MainProcess/INFO] generation 4: 400/6000 nfe\n",
      "[MainProcess/INFO] performing 35 scenarios * 99 policies * 1 model(s) = 3465 experiments\n",
      "[MainProcess/INFO] experiments finished\n",
      "[MainProcess/INFO] generation 5: 499/6000 nfe\n",
      "[MainProcess/INFO] performing 35 scenarios * 100 policies * 1 model(s) = 3500 experiments\n",
      "[MainProcess/INFO] experiments finished\n",
      "[MainProcess/INFO] generation 6: 599/6000 nfe\n",
      "[MainProcess/INFO] performing 35 scenarios * 100 policies * 1 model(s) = 3500 experiments\n",
      "[MainProcess/INFO] experiments finished\n",
      "[MainProcess/INFO] generation 7: 699/6000 nfe\n",
      "[MainProcess/INFO] performing 35 scenarios * 98 policies * 1 model(s) = 3430 experiments\n",
      "[MainProcess/INFO] experiments finished\n",
      "[MainProcess/INFO] generation 8: 797/6000 nfe\n",
      "[MainProcess/INFO] performing 35 scenarios * 100 policies * 1 model(s) = 3500 experiments\n",
      "[MainProcess/INFO] experiments finished\n",
      "[MainProcess/INFO] generation 9: 897/6000 nfe\n",
      "[MainProcess/INFO] performing 35 scenarios * 100 policies * 1 model(s) = 3500 experiments\n",
      "[MainProcess/INFO] experiments finished\n",
      "[MainProcess/INFO] generation 10: 997/6000 nfe\n",
      "[MainProcess/INFO] performing 35 scenarios * 100 policies * 1 model(s) = 3500 experiments\n",
      "[MainProcess/INFO] experiments finished\n",
      "[MainProcess/INFO] generation 11: 1097/6000 nfe\n",
      "[MainProcess/INFO] performing 35 scenarios * 100 policies * 1 model(s) = 3500 experiments\n",
      "[MainProcess/INFO] experiments finished\n",
      "[MainProcess/INFO] generation 12: 1197/6000 nfe\n",
      "[MainProcess/INFO] performing 35 scenarios * 100 policies * 1 model(s) = 3500 experiments\n",
      "[MainProcess/INFO] experiments finished\n",
      "[MainProcess/INFO] generation 13: 1297/6000 nfe\n",
      "[MainProcess/INFO] performing 35 scenarios * 99 policies * 1 model(s) = 3465 experiments\n",
      "[MainProcess/INFO] experiments finished\n",
      "[MainProcess/INFO] generation 14: 1396/6000 nfe\n",
      "[MainProcess/INFO] performing 35 scenarios * 99 policies * 1 model(s) = 3465 experiments\n",
      "[MainProcess/INFO] experiments finished\n",
      "[MainProcess/INFO] generation 15: 1495/6000 nfe\n",
      "[MainProcess/INFO] performing 35 scenarios * 100 policies * 1 model(s) = 3500 experiments\n",
      "[MainProcess/INFO] experiments finished\n",
      "[MainProcess/INFO] generation 16: 1595/6000 nfe\n",
      "[MainProcess/INFO] performing 35 scenarios * 100 policies * 1 model(s) = 3500 experiments\n",
      "[MainProcess/INFO] experiments finished\n",
      "[MainProcess/INFO] generation 17: 1695/6000 nfe\n",
      "[MainProcess/INFO] performing 35 scenarios * 99 policies * 1 model(s) = 3465 experiments\n",
      "[MainProcess/INFO] experiments finished\n",
      "[MainProcess/INFO] generation 18: 1794/6000 nfe\n",
      "[MainProcess/INFO] performing 35 scenarios * 99 policies * 1 model(s) = 3465 experiments\n",
      "[MainProcess/INFO] experiments finished\n",
      "[MainProcess/INFO] generation 19: 1893/6000 nfe\n",
      "[MainProcess/INFO] performing 35 scenarios * 99 policies * 1 model(s) = 3465 experiments\n",
      "[MainProcess/INFO] experiments finished\n",
      "[MainProcess/INFO] generation 20: 1992/6000 nfe\n",
      "[MainProcess/INFO] performing 35 scenarios * 98 policies * 1 model(s) = 3430 experiments\n",
      "[MainProcess/INFO] experiments finished\n",
      "[MainProcess/INFO] generation 21: 2090/6000 nfe\n",
      "[MainProcess/INFO] performing 35 scenarios * 100 policies * 1 model(s) = 3500 experiments\n",
      "[MainProcess/INFO] experiments finished\n",
      "[MainProcess/INFO] generation 22: 2190/6000 nfe\n",
      "[MainProcess/INFO] performing 35 scenarios * 99 policies * 1 model(s) = 3465 experiments\n",
      "[MainProcess/INFO] experiments finished\n",
      "[MainProcess/INFO] generation 23: 2289/6000 nfe\n",
      "[MainProcess/INFO] performing 35 scenarios * 100 policies * 1 model(s) = 3500 experiments\n",
      "[MainProcess/INFO] experiments finished\n",
      "[MainProcess/INFO] generation 24: 2389/6000 nfe\n",
      "[MainProcess/INFO] performing 35 scenarios * 99 policies * 1 model(s) = 3465 experiments\n",
      "[MainProcess/INFO] experiments finished\n",
      "[MainProcess/INFO] generation 25: 2488/6000 nfe\n",
      "[MainProcess/INFO] performing 35 scenarios * 100 policies * 1 model(s) = 3500 experiments\n",
      "[MainProcess/INFO] experiments finished\n",
      "[MainProcess/INFO] generation 26: 2588/6000 nfe\n",
      "[MainProcess/INFO] performing 35 scenarios * 98 policies * 1 model(s) = 3430 experiments\n",
      "[MainProcess/INFO] experiments finished\n",
      "[MainProcess/INFO] generation 27: 2686/6000 nfe\n",
      "[MainProcess/INFO] performing 35 scenarios * 100 policies * 1 model(s) = 3500 experiments\n",
      "[MainProcess/INFO] experiments finished\n",
      "[MainProcess/INFO] generation 28: 2786/6000 nfe\n",
      "[MainProcess/INFO] performing 35 scenarios * 100 policies * 1 model(s) = 3500 experiments\n",
      "[MainProcess/INFO] experiments finished\n",
      "[MainProcess/INFO] generation 29: 2886/6000 nfe\n",
      "[MainProcess/INFO] performing 35 scenarios * 98 policies * 1 model(s) = 3430 experiments\n",
      "[MainProcess/INFO] experiments finished\n",
      "[MainProcess/INFO] generation 30: 2984/6000 nfe\n",
      "[MainProcess/INFO] performing 35 scenarios * 100 policies * 1 model(s) = 3500 experiments\n",
      "[MainProcess/INFO] experiments finished\n",
      "[MainProcess/INFO] generation 31: 3084/6000 nfe\n",
      "[MainProcess/INFO] performing 35 scenarios * 99 policies * 1 model(s) = 3465 experiments\n",
      "[MainProcess/INFO] experiments finished\n",
      "[MainProcess/INFO] generation 32: 3183/6000 nfe\n",
      "[MainProcess/INFO] performing 35 scenarios * 99 policies * 1 model(s) = 3465 experiments\n",
      "[MainProcess/INFO] experiments finished\n",
      "[MainProcess/INFO] generation 33: 3282/6000 nfe\n",
      "[MainProcess/INFO] performing 35 scenarios * 100 policies * 1 model(s) = 3500 experiments\n",
      "[MainProcess/INFO] experiments finished\n",
      "[MainProcess/INFO] generation 34: 3382/6000 nfe\n",
      "[MainProcess/INFO] performing 35 scenarios * 99 policies * 1 model(s) = 3465 experiments\n",
      "[MainProcess/INFO] experiments finished\n",
      "[MainProcess/INFO] generation 35: 3481/6000 nfe\n",
      "[MainProcess/INFO] performing 35 scenarios * 96 policies * 1 model(s) = 3360 experiments\n",
      "[MainProcess/INFO] experiments finished\n",
      "[MainProcess/INFO] generation 36: 3577/6000 nfe\n",
      "[MainProcess/INFO] performing 35 scenarios * 99 policies * 1 model(s) = 3465 experiments\n",
      "[MainProcess/INFO] experiments finished\n",
      "[MainProcess/INFO] generation 37: 3676/6000 nfe\n",
      "[MainProcess/INFO] performing 35 scenarios * 100 policies * 1 model(s) = 3500 experiments\n",
      "[MainProcess/INFO] experiments finished\n",
      "[MainProcess/INFO] generation 38: 3776/6000 nfe\n",
      "[MainProcess/INFO] performing 35 scenarios * 99 policies * 1 model(s) = 3465 experiments\n",
      "[MainProcess/INFO] experiments finished\n",
      "[MainProcess/INFO] generation 39: 3875/6000 nfe\n",
      "[MainProcess/INFO] performing 35 scenarios * 100 policies * 1 model(s) = 3500 experiments\n",
      "[MainProcess/INFO] experiments finished\n",
      "[MainProcess/INFO] generation 40: 3975/6000 nfe\n",
      "[MainProcess/INFO] performing 35 scenarios * 99 policies * 1 model(s) = 3465 experiments\n",
      "[MainProcess/INFO] experiments finished\n",
      "[MainProcess/INFO] generation 41: 4074/6000 nfe\n",
      "[MainProcess/INFO] performing 35 scenarios * 98 policies * 1 model(s) = 3430 experiments\n",
      "[MainProcess/INFO] experiments finished\n",
      "[MainProcess/INFO] generation 42: 4172/6000 nfe\n",
      "[MainProcess/INFO] performing 35 scenarios * 98 policies * 1 model(s) = 3430 experiments\n",
      "[MainProcess/INFO] experiments finished\n",
      "[MainProcess/INFO] generation 43: 4270/6000 nfe\n",
      "[MainProcess/INFO] performing 35 scenarios * 97 policies * 1 model(s) = 3395 experiments\n",
      "[MainProcess/INFO] experiments finished\n",
      "[MainProcess/INFO] generation 44: 4367/6000 nfe\n",
      "[MainProcess/INFO] performing 35 scenarios * 100 policies * 1 model(s) = 3500 experiments\n",
      "[MainProcess/INFO] experiments finished\n",
      "[MainProcess/INFO] generation 45: 4467/6000 nfe\n",
      "[MainProcess/INFO] performing 35 scenarios * 98 policies * 1 model(s) = 3430 experiments\n",
      "[MainProcess/INFO] experiments finished\n",
      "[MainProcess/INFO] generation 46: 4565/6000 nfe\n",
      "[MainProcess/INFO] performing 35 scenarios * 98 policies * 1 model(s) = 3430 experiments\n",
      "[MainProcess/INFO] experiments finished\n",
      "[MainProcess/INFO] generation 47: 4663/6000 nfe\n",
      "[MainProcess/INFO] performing 35 scenarios * 95 policies * 1 model(s) = 3325 experiments\n",
      "[MainProcess/INFO] experiments finished\n",
      "[MainProcess/INFO] generation 48: 4758/6000 nfe\n",
      "[MainProcess/INFO] performing 35 scenarios * 98 policies * 1 model(s) = 3430 experiments\n",
      "[MainProcess/INFO] experiments finished\n",
      "[MainProcess/INFO] generation 49: 4856/6000 nfe\n",
      "[MainProcess/INFO] performing 35 scenarios * 96 policies * 1 model(s) = 3360 experiments\n",
      "[MainProcess/INFO] experiments finished\n",
      "[MainProcess/INFO] generation 50: 4952/6000 nfe\n",
      "[MainProcess/INFO] performing 35 scenarios * 99 policies * 1 model(s) = 3465 experiments\n",
      "[MainProcess/INFO] experiments finished\n",
      "[MainProcess/INFO] generation 51: 5051/6000 nfe\n",
      "[MainProcess/INFO] performing 35 scenarios * 100 policies * 1 model(s) = 3500 experiments\n",
      "[MainProcess/INFO] experiments finished\n",
      "[MainProcess/INFO] generation 52: 5151/6000 nfe\n",
      "[MainProcess/INFO] performing 35 scenarios * 98 policies * 1 model(s) = 3430 experiments\n",
      "[MainProcess/INFO] experiments finished\n",
      "[MainProcess/INFO] generation 53: 5249/6000 nfe\n",
      "[MainProcess/INFO] performing 35 scenarios * 98 policies * 1 model(s) = 3430 experiments\n",
      "[MainProcess/INFO] experiments finished\n",
      "[MainProcess/INFO] generation 54: 5347/6000 nfe\n",
      "[MainProcess/INFO] performing 35 scenarios * 97 policies * 1 model(s) = 3395 experiments\n",
      "[MainProcess/INFO] experiments finished\n",
      "[MainProcess/INFO] generation 55: 5444/6000 nfe\n",
      "[MainProcess/INFO] performing 35 scenarios * 98 policies * 1 model(s) = 3430 experiments\n",
      "[MainProcess/INFO] experiments finished\n",
      "[MainProcess/INFO] generation 56: 5542/6000 nfe\n",
      "[MainProcess/INFO] performing 35 scenarios * 100 policies * 1 model(s) = 3500 experiments\n",
      "[MainProcess/INFO] experiments finished\n",
      "[MainProcess/INFO] generation 57: 5642/6000 nfe\n",
      "[MainProcess/INFO] performing 35 scenarios * 98 policies * 1 model(s) = 3430 experiments\n",
      "[MainProcess/INFO] experiments finished\n",
      "[MainProcess/INFO] generation 58: 5740/6000 nfe\n",
      "[MainProcess/INFO] performing 35 scenarios * 99 policies * 1 model(s) = 3465 experiments\n",
      "[MainProcess/INFO] experiments finished\n",
      "[MainProcess/INFO] generation 59: 5839/6000 nfe\n",
      "[MainProcess/INFO] performing 35 scenarios * 97 policies * 1 model(s) = 3395 experiments\n",
      "[MainProcess/INFO] experiments finished\n",
      "[MainProcess/INFO] generation 60: 5936/6000 nfe\n",
      "[MainProcess/INFO] performing 35 scenarios * 98 policies * 1 model(s) = 3430 experiments\n",
      "[MainProcess/INFO] experiments finished\n",
      "[MainProcess/INFO] optimization completed, found 7 solutions\n",
      "[MainProcess/INFO] terminating pool\n"
     ]
    },
    {
     "name": "stdout",
     "output_type": "stream",
     "text": [
      "Processing time: 1039 minutes\n"
     ]
    }
   ],
   "source": [
    "# scenarios = 5\n",
    "n_scenarios = 35\n",
    "scenarios = sample_uncertainties(dike_model, n_scenarios)\n",
    "nfe = 6000\n",
    "\n",
    "convergence = [HyperVolume(minimum=[0,0,0], maximum=[1.1, 1.1, 1.1]),\n",
    "              EpsilonProgress()]\n",
    "\n",
    "epsilons=[0.05,]*len(robustness_functions)\n",
    "\n",
    "start = time.time()\n",
    "\n",
    "with MultiprocessingEvaluator(dike_model) as evaluator:\n",
    "    results, convergence = evaluator.robust_optimize(robustness_functions, scenarios,  \n",
    "                                               nfe=nfe, convergence=convergence,\n",
    "                                               epsilons=epsilons)\n",
    "end = time.time()\n",
    "\n",
    "print('Processing time:',round((end-start)/60),'minutes')        "
   ]
  },
  {
   "cell_type": "code",
   "execution_count": 6,
   "metadata": {
    "scrolled": false
   },
   "outputs": [
    {
     "data": {
      "image/png": "[encoded data removed]",
      "text/plain": [
       "<matplotlib.figure.Figure at 0xb738af0>"
      ]
     },
     "metadata": {},
     "output_type": "display_data"
    }
   ],
   "source": [
    "from ema_workbench.analysis import parcoords\n",
    "\n",
    "data = results.loc[:, [o.name for o in robustness_functions]]\n",
    "limits = parcoords.get_limits(data)\n",
    "limits.loc[0, :] = 0\n",
    "limits.loc[1, :] = 1\n",
    "\n",
    "paraxes = parcoords.ParallelAxes(limits)\n",
    "paraxes.plot(data)\n",
    "plt.show()"
   ]
  },
  {
   "cell_type": "code",
   "execution_count": 8,
   "metadata": {},
   "outputs": [
    {
     "data": {
      "text/html": [
       "<div>\n",
       "<style scoped>\n",
       "    .dataframe tbody tr th:only-of-type {\n",
       "        vertical-align: middle;\n",
       "    }\n",
       "\n",
       "    .dataframe tbody tr th {\n",
       "        vertical-align: top;\n",
       "    }\n",
       "\n",
       "    .dataframe thead th {\n",
       "        text-align: right;\n",
       "    }\n",
       "</style>\n",
       "<table border=\"1\" class=\"dataframe\">\n",
       "  <thead>\n",
       "    <tr style=\"text-align: right;\">\n",
       "      <th></th>\n",
       "      <th>A.1_DikeIncrease</th>\n",
       "      <th>A.2_DikeIncrease</th>\n",
       "      <th>A.3_DikeIncrease</th>\n",
       "      <th>A.4_DikeIncrease</th>\n",
       "      <th>A.5_DikeIncrease</th>\n",
       "      <th>0_RfR</th>\n",
       "      <th>1_RfR</th>\n",
       "      <th>2_RfR</th>\n",
       "      <th>3_RfR</th>\n",
       "      <th>4_RfR</th>\n",
       "      <th>EWS_DaysToThreat</th>\n",
       "      <th>Expected Number of Deaths</th>\n",
       "      <th>Expected Annual Damage</th>\n",
       "      <th>Total Investment Costs</th>\n",
       "    </tr>\n",
       "  </thead>\n",
       "  <tbody>\n",
       "    <tr>\n",
       "      <th>0</th>\n",
       "      <td>7</td>\n",
       "      <td>8</td>\n",
       "      <td>10</td>\n",
       "      <td>7</td>\n",
       "      <td>9</td>\n",
       "      <td>0</td>\n",
       "      <td>0</td>\n",
       "      <td>0</td>\n",
       "      <td>0</td>\n",
       "      <td>0</td>\n",
       "      <td>3</td>\n",
       "      <td>0.971429</td>\n",
       "      <td>0.800000</td>\n",
       "      <td>0.198101</td>\n",
       "    </tr>\n",
       "    <tr>\n",
       "      <th>1</th>\n",
       "      <td>6</td>\n",
       "      <td>8</td>\n",
       "      <td>10</td>\n",
       "      <td>10</td>\n",
       "      <td>10</td>\n",
       "      <td>0</td>\n",
       "      <td>0</td>\n",
       "      <td>0</td>\n",
       "      <td>0</td>\n",
       "      <td>0</td>\n",
       "      <td>3</td>\n",
       "      <td>0.914286</td>\n",
       "      <td>0.828571</td>\n",
       "      <td>0.199490</td>\n",
       "    </tr>\n",
       "    <tr>\n",
       "      <th>2</th>\n",
       "      <td>0</td>\n",
       "      <td>0</td>\n",
       "      <td>5</td>\n",
       "      <td>5</td>\n",
       "      <td>9</td>\n",
       "      <td>0</td>\n",
       "      <td>0</td>\n",
       "      <td>0</td>\n",
       "      <td>0</td>\n",
       "      <td>0</td>\n",
       "      <td>3</td>\n",
       "      <td>0.085714</td>\n",
       "      <td>0.000000</td>\n",
       "      <td>0.072957</td>\n",
       "    </tr>\n",
       "    <tr>\n",
       "      <th>3</th>\n",
       "      <td>2</td>\n",
       "      <td>4</td>\n",
       "      <td>7</td>\n",
       "      <td>4</td>\n",
       "      <td>6</td>\n",
       "      <td>0</td>\n",
       "      <td>0</td>\n",
       "      <td>0</td>\n",
       "      <td>0</td>\n",
       "      <td>0</td>\n",
       "      <td>3</td>\n",
       "      <td>0.371429</td>\n",
       "      <td>0.200000</td>\n",
       "      <td>0.149928</td>\n",
       "    </tr>\n",
       "    <tr>\n",
       "      <th>4</th>\n",
       "      <td>0</td>\n",
       "      <td>0</td>\n",
       "      <td>6</td>\n",
       "      <td>4</td>\n",
       "      <td>0</td>\n",
       "      <td>0</td>\n",
       "      <td>0</td>\n",
       "      <td>0</td>\n",
       "      <td>0</td>\n",
       "      <td>0</td>\n",
       "      <td>3</td>\n",
       "      <td>0.000000</td>\n",
       "      <td>0.000000</td>\n",
       "      <td>0.034146</td>\n",
       "    </tr>\n",
       "    <tr>\n",
       "      <th>5</th>\n",
       "      <td>9</td>\n",
       "      <td>8</td>\n",
       "      <td>10</td>\n",
       "      <td>10</td>\n",
       "      <td>10</td>\n",
       "      <td>0</td>\n",
       "      <td>0</td>\n",
       "      <td>1</td>\n",
       "      <td>0</td>\n",
       "      <td>0</td>\n",
       "      <td>2</td>\n",
       "      <td>0.971429</td>\n",
       "      <td>0.942857</td>\n",
       "      <td>0.243573</td>\n",
       "    </tr>\n",
       "    <tr>\n",
       "      <th>6</th>\n",
       "      <td>6</td>\n",
       "      <td>10</td>\n",
       "      <td>9</td>\n",
       "      <td>9</td>\n",
       "      <td>9</td>\n",
       "      <td>1</td>\n",
       "      <td>0</td>\n",
       "      <td>1</td>\n",
       "      <td>1</td>\n",
       "      <td>0</td>\n",
       "      <td>1</td>\n",
       "      <td>0.971429</td>\n",
       "      <td>0.971429</td>\n",
       "      <td>0.439929</td>\n",
       "    </tr>\n",
       "  </tbody>\n",
       "</table>\n",
       "</div>"
      ],
      "text/plain": [
       "   A.1_DikeIncrease  A.2_DikeIncrease  A.3_DikeIncrease  A.4_DikeIncrease  \\\n",
       "0                 7                 8                10                 7   \n",
       "1                 6                 8                10                10   \n",
       "2                 0                 0                 5                 5   \n",
       "3                 2                 4                 7                 4   \n",
       "4                 0                 0                 6                 4   \n",
       "5                 9                 8                10                10   \n",
       "6                 6                10                 9                 9   \n",
       "\n",
       "   A.5_DikeIncrease  0_RfR  1_RfR  2_RfR  3_RfR  4_RfR  EWS_DaysToThreat  \\\n",
       "0                 9      0      0      0      0      0                 3   \n",
       "1                10      0      0      0      0      0                 3   \n",
       "2                 9      0      0      0      0      0                 3   \n",
       "3                 6      0      0      0      0      0                 3   \n",
       "4                 0      0      0      0      0      0                 3   \n",
       "5                10      0      0      1      0      0                 2   \n",
       "6                 9      1      0      1      1      0                 1   \n",
       "\n",
       "   Expected Number of Deaths  Expected Annual Damage  Total Investment Costs  \n",
       "0                   0.971429                0.800000                0.198101  \n",
       "1                   0.914286                0.828571                0.199490  \n",
       "2                   0.085714                0.000000                0.072957  \n",
       "3                   0.371429                0.200000                0.149928  \n",
       "4                   0.000000                0.000000                0.034146  \n",
       "5                   0.971429                0.942857                0.243573  \n",
       "6                   0.971429                0.971429                0.439929  "
      ]
     },
     "execution_count": 8,
     "metadata": {},
     "output_type": "execute_result"
    }
   ],
   "source": [
    "#results"
   ]
  },
  {
   "cell_type": "code",
   "execution_count": 9,
   "metadata": {},
   "outputs": [],
   "source": [
    "# putting a further a threshold to minimize the number of policues\n",
    "results = results[results[\"Expected Number of Deaths\"]>0.5]"
   ]
  },
  {
   "cell_type": "code",
   "execution_count": 25,
   "metadata": {},
   "outputs": [
    {
     "data": {
      "image/png": "[encoded data removed]",
      "text/plain": [
       "<matplotlib.figure.Figure at 0xb680f10>"
      ]
     },
     "metadata": {},
     "output_type": "display_data"
    }
   ],
   "source": [
    "fig, (ax1, ax2) = plt.subplots(ncols=2, sharex=True, figsize=(8,4))\n",
    "ax1.plot(convergence.nfe, convergence.epsilon_progress)\n",
    "ax1.set_ylabel('$\\epsilon$-progress')\n",
    "ax2.plot(convergence.nfe, convergence.hypervolume)\n",
    "ax2.set_ylabel('hypervolume')\n",
    "\n",
    "ax1.set_xlabel('number of function evaluations')\n",
    "ax2.set_xlabel('number of function evaluations')\n",
    "plt.show()"
   ]
  },
  {
   "cell_type": "code",
   "execution_count": 23,
   "metadata": {
    "collapsed": true
   },
   "outputs": [
    {
     "ename": "AttributeError",
     "evalue": "'tuple' object has no attribute 'drop'",
     "output_type": "error",
     "traceback": [
      "\u001b[1;31m---------------------------------------------------------------------------\u001b[0m",
      "\u001b[1;31mAttributeError\u001b[0m                            Traceback (most recent call last)",
      "\u001b[1;32m<ipython-input-23-92d281da4c61>\u001b[0m in \u001b[0;36m<module>\u001b[1;34m()\u001b[0m\n\u001b[0;32m      1\u001b[0m \u001b[1;32mfrom\u001b[0m \u001b[0mema_workbench\u001b[0m \u001b[1;32mimport\u001b[0m \u001b[0mPolicy\u001b[0m\u001b[1;33m\u001b[0m\u001b[0m\n\u001b[0;32m      2\u001b[0m \u001b[1;33m\u001b[0m\u001b[0m\n\u001b[1;32m----> 3\u001b[1;33m \u001b[0mpolicies\u001b[0m \u001b[1;33m=\u001b[0m \u001b[0mresults\u001b[0m\u001b[1;33m.\u001b[0m\u001b[0mdrop\u001b[0m\u001b[1;33m(\u001b[0m\u001b[1;33m[\u001b[0m\u001b[0mo\u001b[0m\u001b[1;33m.\u001b[0m\u001b[0mname\u001b[0m \u001b[1;32mfor\u001b[0m \u001b[0mo\u001b[0m \u001b[1;32min\u001b[0m \u001b[0mrobustness_functions\u001b[0m\u001b[1;33m]\u001b[0m\u001b[1;33m,\u001b[0m \u001b[0maxis\u001b[0m\u001b[1;33m=\u001b[0m\u001b[1;36m1\u001b[0m\u001b[1;33m)\u001b[0m\u001b[1;33m\u001b[0m\u001b[0m\n\u001b[0m\u001b[0;32m      4\u001b[0m \u001b[0mpolicies_to_evaluate\u001b[0m \u001b[1;33m=\u001b[0m \u001b[1;33m[\u001b[0m\u001b[1;33m]\u001b[0m\u001b[1;33m\u001b[0m\u001b[0m\n\u001b[0;32m      5\u001b[0m \u001b[1;33m\u001b[0m\u001b[0m\n",
      "\u001b[1;31mAttributeError\u001b[0m: 'tuple' object has no attribute 'drop'"
     ]
    }
   ],
   "source": [
    "from ema_workbench import Policy\n",
    "\n",
    "policies = results.drop([o.name for o in robustness_functions], axis=1)\n",
    "policies_to_evaluate = []\n",
    "\n",
    "for i, policy in policies.iterrows():\n",
    "    policies_to_evaluate.append(Policy(\"moro {}\".format(i), **policy.to_dict()))"
   ]
  },
  {
   "cell_type": "markdown",
   "metadata": {},
   "source": [
    "# 4. Reevaluate Policies"
   ]
  },
  {
   "cell_type": "code",
   "execution_count": 27,
   "metadata": {},
   "outputs": [
    {
     "name": "stderr",
     "output_type": "stream",
     "text": [
      "[MainProcess/INFO] pool started\n",
      "[MainProcess/INFO] performing 1000 scenarios * 4 policies * 1 model(s) = 4000 experiments\n",
      "[MainProcess/INFO] 400 cases completed\n",
      "[MainProcess/INFO] 800 cases completed\n",
      "[MainProcess/INFO] 1200 cases completed\n",
      "[MainProcess/INFO] 1600 cases completed\n",
      "[MainProcess/INFO] 2000 cases completed\n",
      "[MainProcess/INFO] 2400 cases completed\n",
      "[MainProcess/INFO] 2800 cases completed\n",
      "[MainProcess/INFO] 3200 cases completed\n",
      "[MainProcess/INFO] 3600 cases completed\n",
      "[MainProcess/INFO] 4000 cases completed\n",
      "[MainProcess/INFO] experiments finished\n",
      "[MainProcess/INFO] terminating pool\n"
     ]
    }
   ],
   "source": [
    "n_scenarios = 1000\n",
    "with MultiprocessingEvaluator(dike_model) as evaluator:\n",
    "    results = evaluator.perform_experiments(n_scenarios,\n",
    "                                            policies_to_evaluate)"
   ]
  },
  {
   "cell_type": "code",
   "execution_count": 29,
   "metadata": {},
   "outputs": [
    {
     "data": {
      "text/html": [
       "<div>\n",
       "<style scoped>\n",
       "    .dataframe tbody tr th:only-of-type {\n",
       "        vertical-align: middle;\n",
       "    }\n",
       "\n",
       "    .dataframe tbody tr th {\n",
       "        vertical-align: top;\n",
       "    }\n",
       "\n",
       "    .dataframe thead th {\n",
       "        text-align: right;\n",
       "    }\n",
       "</style>\n",
       "<table border=\"1\" class=\"dataframe\">\n",
       "  <thead>\n",
       "    <tr style=\"text-align: right;\">\n",
       "      <th></th>\n",
       "      <th>Expected Annual Damage</th>\n",
       "      <th>Expected Number of Deaths</th>\n",
       "      <th>Total Investment Costs</th>\n",
       "    </tr>\n",
       "  </thead>\n",
       "  <tbody>\n",
       "    <tr>\n",
       "      <th>moro 0</th>\n",
       "      <td>0.754</td>\n",
       "      <td>0.924</td>\n",
       "      <td>0.198101</td>\n",
       "    </tr>\n",
       "    <tr>\n",
       "      <th>moro 1</th>\n",
       "      <td>0.818</td>\n",
       "      <td>0.923</td>\n",
       "      <td>0.199490</td>\n",
       "    </tr>\n",
       "    <tr>\n",
       "      <th>moro 5</th>\n",
       "      <td>0.894</td>\n",
       "      <td>0.966</td>\n",
       "      <td>0.243573</td>\n",
       "    </tr>\n",
       "    <tr>\n",
       "      <th>moro 6</th>\n",
       "      <td>0.920</td>\n",
       "      <td>0.950</td>\n",
       "      <td>0.439929</td>\n",
       "    </tr>\n",
       "  </tbody>\n",
       "</table>\n",
       "</div>"
      ],
      "text/plain": [
       "        Expected Annual Damage  Expected Number of Deaths  \\\n",
       "moro 0                   0.754                      0.924   \n",
       "moro 1                   0.818                      0.923   \n",
       "moro 5                   0.894                      0.966   \n",
       "moro 6                   0.920                      0.950   \n",
       "\n",
       "        Total Investment Costs  \n",
       "moro 0                0.198101  \n",
       "moro 1                0.199490  \n",
       "moro 5                0.243573  \n",
       "moro 6                0.439929  "
      ]
     },
     "execution_count": 29,
     "metadata": {},
     "output_type": "execute_result"
    }
   ],
   "source": [
    "robustness_funcs = {'Total Investment Costs': total_investment_costs,\n",
    "                    'Expected Number of Deaths': expected_number_of_deaths,\n",
    "                    'Expected Annual Damage': expected_annual_damage}\n",
    "\n",
    "import pandas as pd\n",
    "experiments, outcomes = results\n",
    "\n",
    "overall_robustness = {}\n",
    "for policy in np.unique(experiments['policy']):\n",
    "    policy_robustness = {}\n",
    "\n",
    "    logical = experiments['policy'] == policy\n",
    "    \n",
    "    for outcome, values in outcomes.items():\n",
    "        values = values[logical]\n",
    "        policy_robustness[outcome] = robustness_funcs[outcome](values)\n",
    "    overall_robustness[policy] = policy_robustness\n",
    "overall_robustness = pd.DataFrame.from_dict(overall_robustness).T\n",
    "overall_robustness = overall_robustness[overall_robustness[\"Expected Number of Deaths\"]>0.5]\n",
    "overall_robustness.to_csv(dike_model_MORO_6000nfe_35scenario\n",
    ")"
   ]
  },
  {
   "cell_type": "code",
   "execution_count": 33,
   "metadata": {
    "scrolled": true
   },
   "outputs": [
    {
     "data": {
      "image/png": "[encoded data removed]",
      "text/plain": [
       "<matplotlib.figure.Figure at 0xb686730>"
      ]
     },
     "metadata": {},
     "output_type": "display_data"
    }
   ],
   "source": [
    "data = overall_robustness.loc[:, [o.name for o in robustness_functions]]\n",
    "limits = parcoords.get_limits(data)\n",
    "limits.loc[0, :] = 0\n",
    "limits.loc[1, :] = 1\n",
    "\n",
    "paraxes = parcoords.ParallelAxes(limits)\n",
    "paraxes.plot(data)\n",
    "plt.show()"
   ]
  },
  {
   "cell_type": "markdown",
   "metadata": {},
   "source": [
    "## Utilizing Scenario Discovery for the Evaluation of the Policy Sets"
   ]
  },
  {
   "cell_type": "code",
   "execution_count": 35,
   "metadata": {},
   "outputs": [
    {
     "data": {
      "text/plain": [
       "array(['moro 0', 'moro 1', 'moro 5', 'moro 6'], dtype=object)"
      ]
     },
     "execution_count": 35,
     "metadata": {},
     "output_type": "execute_result"
    }
   ],
   "source": [
    "from ema_workbench.analysis import prim\n",
    "%matplotlib inline\n",
    "\n",
    "experiments, outcomes = results\n",
    "X = pd.DataFrame(experiments)\n",
    "z = np.unique(X.policy)\n",
    "z = np.delete(z,[0,1,5,6])"
   ]
  },
  {
   "cell_type": "code",
   "execution_count": 38,
   "metadata": {
    "scrolled": true
   },
   "outputs": [
    {
     "name": "stderr",
     "output_type": "stream",
     "text": [
      "[MainProcess/INFO] 1000 points remaining, containing 983 cases of interest\n",
      "[MainProcess/INFO] mean: 1.0, mass: 0.813, coverage: 0.82706002034588, density: 1.0 restricted_dimensions: 4\n"
     ]
    },
    {
     "data": {
      "image/png": "[encoded data removed]",
      "text/plain": [
       "<matplotlib.figure.Figure at 0xc179e90>"
      ]
     },
     "metadata": {},
     "output_type": "display_data"
    },
    {
     "name": "stderr",
     "output_type": "stream",
     "text": [
      "[MainProcess/INFO] 1000 points remaining, containing 971 cases of interest\n",
      "[MainProcess/INFO] mean: 1.0, mass: 0.856, coverage: 0.8815653964984552, density: 1.0 restricted_dimensions: 3\n"
     ]
    },
    {
     "data": {
      "image/png": "[encoded data removed]",
      "text/plain": [
       "<matplotlib.figure.Figure at 0xc1e2b70>"
      ]
     },
     "metadata": {},
     "output_type": "display_data"
    },
    {
     "name": "stderr",
     "output_type": "stream",
     "text": [
      "[MainProcess/INFO] 1000 points remaining, containing 995 cases of interest\n",
      "[MainProcess/INFO] mean: 1.0, mass: 0.856, coverage: 0.8603015075376884, density: 1.0 restricted_dimensions: 3\n"
     ]
    },
    {
     "data": {
      "image/png": "[encoded data removed]",
      "text/plain": [
       "<matplotlib.figure.Figure at 0xbc761d0>"
      ]
     },
     "metadata": {},
     "output_type": "display_data"
    },
    {
     "name": "stderr",
     "output_type": "stream",
     "text": [
      "[MainProcess/INFO] 1000 points remaining, containing 984 cases of interest\n",
      "[MainProcess/INFO] mean: 1.0, mass: 0.813, coverage: 0.8262195121951219, density: 1.0 restricted_dimensions: 3\n"
     ]
    },
    {
     "data": {
      "image/png": "[encoded data removed]",
      "text/plain": [
       "<matplotlib.figure.Figure at 0xbcebe10>"
      ]
     },
     "metadata": {},
     "output_type": "display_data"
    }
   ],
   "source": [
    "boxes = []\n",
    "for i in range(len(z)):\n",
    "    X = pd.DataFrame(experiments)\n",
    "    X = X.iloc[:,:-1]\n",
    "    y = pd.DataFrame(outcomes)\n",
    "    policy = (X.policy == z[i])\n",
    "    X = X[X['policy'] == z[i]]\n",
    "    X = X.to_records()\n",
    "    y = (y[policy]['Expected Number of Deaths'] < 0.005)\n",
    "    y = y.reset_index(drop = True)\n",
    "    prim_alg = prim.Prim(X, y, threshold=0.8, peel_alpha = 0.05)\n",
    "    box = prim_alg.find_box()\n",
    "    boxes.append(box)\n",
    "    box.show_tradeoff()\n",
    "    plt.grid()\n",
    "    plt.title(z[i])\n",
    "    plt.show()"
   ]
  },
  {
   "cell_type": "code",
   "execution_count": 39,
   "metadata": {
    "scrolled": true
   },
   "outputs": [
    {
     "name": "stderr",
     "output_type": "stream",
     "text": [
      "[MainProcess/INFO] 1000 points remaining, containing 787 cases of interest\n",
      "[MainProcess/INFO] mean: 1.0, mass: 0.661, coverage: 0.8398983481575604, density: 1.0 restricted_dimensions: 5\n"
     ]
    },
    {
     "data": {
      "image/png": "[encoded data removed]",
      "text/plain": [
       "<matplotlib.figure.Figure at 0xc09d490>"
      ]
     },
     "metadata": {},
     "output_type": "display_data"
    },
    {
     "name": "stderr",
     "output_type": "stream",
     "text": [
      "[MainProcess/INFO] 1000 points remaining, containing 842 cases of interest\n",
      "[MainProcess/INFO] mean: 1.0, mass: 0.696, coverage: 0.8266033254156769, density: 1.0 restricted_dimensions: 5\n"
     ]
    },
    {
     "data": {
      "image/png": "[encoded data removed]",
      "text/plain": [
       "<matplotlib.figure.Figure at 0xbe96970>"
      ]
     },
     "metadata": {},
     "output_type": "display_data"
    },
    {
     "name": "stderr",
     "output_type": "stream",
     "text": [
      "[MainProcess/INFO] 1000 points remaining, containing 915 cases of interest\n",
      "[MainProcess/INFO] mean: 1.0, mass: 0.772, coverage: 0.8437158469945355, density: 1.0 restricted_dimensions: 5\n"
     ]
    },
    {
     "data": {
      "image/png": "[encoded data removed]",
      "text/plain": [
       "<matplotlib.figure.Figure at 0xc10b750>"
      ]
     },
     "metadata": {},
     "output_type": "display_data"
    },
    {
     "name": "stderr",
     "output_type": "stream",
     "text": [
      "[MainProcess/INFO] 1000 points remaining, containing 933 cases of interest\n",
      "[MainProcess/INFO] mean: 1.0, mass: 0.772, coverage: 0.827438370846731, density: 1.0 restricted_dimensions: 5\n"
     ]
    },
    {
     "data": {
      "image/png": "[encoded data removed]",
      "text/plain": [
       "<matplotlib.figure.Figure at 0xbff68d0>"
      ]
     },
     "metadata": {},
     "output_type": "display_data"
    }
   ],
   "source": [
    "for i in range(len(z)):\n",
    "    X = pd.DataFrame(experiments)\n",
    "    X = X.iloc[:,:-1]\n",
    "    y = pd.DataFrame(outcomes)\n",
    "    policy = (X.policy == z[i])\n",
    "    X = X[X['policy'] == z[i]]\n",
    "    X = X.to_records()\n",
    "    y = (y[policy]['Expected Annual Damage'] < 1e6)\n",
    "    y = y.reset_index(drop = True)\n",
    "    prim_alg = prim.Prim(X, y, threshold=0.8, peel_alpha = 0.05)\n",
    "    box = prim_alg.find_box()\n",
    "    boxes.append(box)\n",
    "    box.show_tradeoff()\n",
    "    plt.grid()\n",
    "    plt.title(z[i])\n",
    "    plt.show()"
   ]
  },
  {
   "cell_type": "code",
   "execution_count": null,
   "metadata": {},
   "outputs": [],
   "source": [
    "box.inspect(i = 11, style = 'table')\n",
    "box.inspect(i = 11, style = 'graph')"
   ]
  },
  {
   "cell_type": "code",
   "execution_count": null,
   "metadata": {},
   "outputs": [],
   "source": [
    "box.select(11)\n",
    "fig = box1.show_pairs_scatter()"
   ]
  },
  {
   "cell_type": "code",
   "execution_count": null,
   "metadata": {},
   "outputs": [],
   "source": []
  }
 ],
 "metadata": {
  "kernelspec": {
   "display_name": "Python 3",
   "language": "python",
   "name": "python3"
  },
  "language_info": {
   "codemirror_mode": {
    "name": "ipython",
    "version": 3
   },
   "file_extension": ".py",
   "mimetype": "text/x-python",
   "name": "python",
   "nbconvert_exporter": "python",
   "pygments_lexer": "ipython3",
   "version": "3.7.0"
  }
 },
 "nbformat": 4,
 "nbformat_minor": 2
}
